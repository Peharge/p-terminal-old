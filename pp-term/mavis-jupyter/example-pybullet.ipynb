{
 "cells": [
  {
   "cell_type": "code",
   "execution_count": null,
   "id": "5209d5cc-24fd-4d63-b076-fe1a8eb50993",
   "metadata": {},
   "outputs": [],
   "source": [
    "!pip install gym"
   ]
  },
  {
   "cell_type": "code",
   "execution_count": null,
   "id": "c1439feb-6199-4d5d-bf5c-6add085e1b93",
   "metadata": {},
   "outputs": [],
   "source": [
    "import pybullet as p\n",
    "import time\n",
    "\n",
    "# Initialisieren der physikalischen Simulation mit GUI\n",
    "client_id = p.connect(p.GUI)\n",
    "\n",
    "# Überprüfen, ob die Verbindung erfolgreich ist\n",
    "if client_id < 0:\n",
    "    raise Exception(\"Verbindung zum Physikserver konnte nicht hergestellt werden!\")\n",
    "\n",
    "# Schwerkraft setzen\n",
    "p.setGravity(0, 0, -9.81)\n",
    "\n",
    "# Erstellen des Hauses (Korpus und Dach)\n",
    "house_length = 5\n",
    "house_width = 5\n",
    "house_height = 3\n",
    "\n",
    "# Hauptteil des Hauses (Box)\n",
    "house = p.createMultiBody(baseMass=1,\n",
    "                          baseCollisionShapeIndex=p.createCollisionShape(p.GEOM_BOX, halfExtents=[house_length / 2, house_width / 2, house_height / 2]),\n",
    "                          baseVisualShapeIndex=p.createVisualShape(p.GEOM_BOX, halfExtents=[house_length / 2, house_width / 2, house_height / 2]),\n",
    "                          basePosition=[0, 0, house_height / 2])\n",
    "\n",
    "# Dach des Hauses (Pyramide oder schräg)\n",
    "roof_height = 2\n",
    "roof_shape = p.createCollisionShape(p.GEOM_MESH, fileName=\"roof.obj\")  # Du kannst auch ein einfaches Mesh verwenden oder weitere Boxen platzieren\n",
    "roof = p.createMultiBody(baseMass=1,\n",
    "                         baseCollisionShapeIndex=roof_shape,\n",
    "                         baseVisualShapeIndex=roof_shape,\n",
    "                         basePosition=[0, 0, house_height + roof_height / 2])\n",
    "\n",
    "# Fenster und Türen hinzufügen\n",
    "door_width = 1\n",
    "door_height = 2\n",
    "window_size = 1\n",
    "\n",
    "# Tür\n",
    "door = p.createMultiBody(baseMass=1,\n",
    "                         baseCollisionShapeIndex=p.createCollisionShape(p.GEOM_BOX, halfExtents=[door_width / 2, house_width / 2, door_height / 2]),\n",
    "                         baseVisualShapeIndex=p.createVisualShape(p.GEOM_BOX, halfExtents=[door_width / 2, house_width / 2, door_height / 2]),\n",
    "                         basePosition=[0, house_width / 2 + 0.1, house_height / 2 - door_height / 2])\n",
    "\n",
    "# Fenster\n",
    "window = p.createMultiBody(baseMass=1,\n",
    "                           baseCollisionShapeIndex=p.createCollisionShape(p.GEOM_BOX, halfExtents=[window_size / 2, house_width / 4, window_size / 2]),\n",
    "                           baseVisualShapeIndex=p.createVisualShape(p.GEOM_BOX, halfExtents=[window_size / 2, house_width / 4, window_size / 2]),\n",
    "                           basePosition=[0, -house_width / 2 - 0.1, house_height / 2 + window_size / 2])\n",
    "\n",
    "# Die Simulation laufen lassen\n",
    "for _ in range(10000):\n",
    "    p.stepSimulation()\n",
    "    time.sleep(1. / 240.)\n",
    "\n",
    "# Trennen der Simulation\n",
    "p.disconnect()\n"
   ]
  }
 ],
 "metadata": {
  "kernelspec": {
   "display_name": "Python 3 (ipykernel)",
   "language": "python",
   "name": "python3"
  },
  "language_info": {
   "codemirror_mode": {
    "name": "ipython",
    "version": 3
   },
   "file_extension": ".py",
   "mimetype": "text/x-python",
   "name": "python",
   "nbconvert_exporter": "python",
   "pygments_lexer": "ipython3",
   "version": "3.12.9"
  }
 },
 "nbformat": 4,
 "nbformat_minor": 5
}
