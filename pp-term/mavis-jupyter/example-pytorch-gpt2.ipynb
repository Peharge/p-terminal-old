{
 "cells": [
  {
   "cell_type": "code",
   "execution_count": null,
   "id": "efebb4b8-d677-4f19-9763-45974c1f0fe4",
   "metadata": {},
   "outputs": [],
   "source": [
    "huggingface-cli login"
   ]
  },
  {
   "cell_type": "code",
   "execution_count": null,
   "id": "4480431e-cf51-4d0a-a6b9-8846d131c256",
   "metadata": {},
   "outputs": [],
   "source": [
    "from transformers import GPT2LMHeadModel, GPT2Tokenizer\n",
    "\n",
    "# Dein Hugging Face Token\n",
    "token = \"<your_huggingface_token>\"  # Dein Token hier einfügen\n",
    "\n",
    "def load_model(model_name=\"gpt2\", token=None):\n",
    "    # Token und Modell von Hugging Face laden\n",
    "    tokenizer = GPT2Tokenizer.from_pretrained(model_name, use_auth_token=token)\n",
    "    model = GPT2LMHeadModel.from_pretrained(model_name, use_auth_token=token)\n",
    "\n",
    "    # Setze das Gerät auf GPU, wenn verfügbar, sonst CPU\n",
    "    device = torch.device(\"cuda\" if torch.cuda.is_available() else \"cpu\")\n",
    "    model.to(device)\n",
    "\n",
    "    # Modell in den Evaluierungsmodus versetzen\n",
    "    model.eval()\n",
    "\n",
    "    return model, tokenizer, device\n",
    "\n",
    "model_name = \"gpt2\"\n",
    "model, tokenizer, device = load_model(model_name, token)\n",
    "\n",
    "print(\"Chatbot: Hallo! Wie kann ich dir helfen?\")\n",
    "while True:\n",
    "    user_input = input(\"Du: \").strip()\n",
    "\n",
    "    if not user_input:  # Falls keine Eingabe erfolgt\n",
    "        print(\"Chatbot: Bitte gib etwas ein!\")\n",
    "        continue\n",
    "\n",
    "    if user_input.lower() == \"quit\":\n",
    "        print(\"Chatbot: Tschüss!\")\n",
    "        break\n",
    "\n",
    "    response = generate_response(user_input, model, tokenizer, device)\n",
    "    print(f\"Chatbot: {response}\")\n"
   ]
  },
  {
   "cell_type": "code",
   "execution_count": null,
   "id": "ed6f9861-5ba7-48cc-9ebf-71db6d3713f8",
   "metadata": {},
   "outputs": [],
   "source": [
    "from transformers import GPT2LMHeadModel, GPT2Tokenizer\n",
    "\n",
    "# Dein Hugging Face Token\n",
    "token = \"<your_huggingface_token>\"  # Dein Token hier einfügen\n",
    "\n",
    "def load_model(model_name=\"gpt2\", token=None):\n",
    "    # Token und Modell von Hugging Face laden\n",
    "    tokenizer = GPT2Tokenizer.from_pretrained(model_name, use_auth_token=token)\n",
    "    model = GPT2LMHeadModel.from_pretrained(model_name, use_auth_token=token)\n",
    "\n",
    "    # Setze das Gerät auf GPU, wenn verfügbar, sonst CPU\n",
    "    device = torch.device(\"cuda\" if torch.cuda.is_available() else \"cpu\")\n",
    "    model.to(device)\n",
    "\n",
    "    # Modell in den Evaluierungsmodus versetzen\n",
    "    model.eval()\n",
    "\n",
    "    return model, tokenizer, device\n",
    "\n",
    "model_name = \"gpt2\"\n",
    "model, tokenizer, device = load_model(model_name, token)\n",
    "\n",
    "print(\"Chatbot: Hallo! Wie kann ich dir helfen?\")\n",
    "while True:\n",
    "    user_input = input(\"Du: \").strip()\n",
    "\n",
    "    if not user_input:  # Falls keine Eingabe erfolgt\n",
    "        print(\"Chatbot: Bitte gib etwas ein!\")\n",
    "        continue\n",
    "\n",
    "    if user_input.lower() == \"quit\":\n",
    "        print(\"Chatbot: Tschüss!\")\n",
    "        break\n",
    "\n",
    "    response = generate_response(user_input, model, tokenizer, device)\n",
    "    print(f\"Chatbot: {response}\")\n"
   ]
  }
 ],
 "metadata": {
  "kernelspec": {
   "display_name": "Python 3 (ipykernel)",
   "language": "python",
   "name": "python3"
  },
  "language_info": {
   "codemirror_mode": {
    "name": "ipython",
    "version": 3
   },
   "file_extension": ".py",
   "mimetype": "text/x-python",
   "name": "python",
   "nbconvert_exporter": "python",
   "pygments_lexer": "ipython3",
   "version": "3.12.9"
  }
 },
 "nbformat": 4,
 "nbformat_minor": 5
}
